{
 "cells": [
  {
   "cell_type": "code",
   "execution_count": 1,
   "id": "a525e24d",
   "metadata": {},
   "outputs": [],
   "source": [
    "import numpy as np\n",
    "\n",
    "from sklearn.datasets import make_swiss_roll\n",
    "X, t = make_swiss_roll(n_samples= 1000, noise =0.2, random_state=42)"
   ]
  },
  {
   "cell_type": "code",
   "execution_count": 2,
   "id": "b7009a91",
   "metadata": {},
   "outputs": [],
   "source": [
    "# 8.3.2 실습 코드\n",
    "X_centered = X - X.mean(axis=0)\n",
    "U, s, Vt = np.linalg.svd(X_centered)\n",
    "c1 = Vt.T[:, 0]\n",
    "c2 = Vt.T[:, 1]"
   ]
  },
  {
   "cell_type": "code",
   "execution_count": 3,
   "id": "fd734ba8",
   "metadata": {},
   "outputs": [
    {
     "name": "stdout",
     "output_type": "stream",
     "text": [
      "X_centered :  [[-3.29677117  4.26198454  7.69787682]\n",
      " [ 5.95972743 11.45784273 12.72625276]\n",
      " [ 6.66051523 18.15820401 -9.84713337]\n",
      " ...\n",
      " [ 6.18364276  1.44095323 -1.71242696]\n",
      " [ 5.86076169  1.09185823 12.47091112]\n",
      " [-8.16213703  5.61235668  4.51171684]]\n",
      "c1 :  [0.56791312 0.15670748 0.80803308] c2 :  [-0.77712377 -0.2213858   0.5891239 ]\n"
     ]
    }
   ],
   "source": [
    "# 8.3.2 실습 코드 결과\n",
    "print(\"X_centered : \", X)\n",
    "print(\"c1 : \", c1, \"c2 : \", c2)"
   ]
  },
  {
   "cell_type": "code",
   "execution_count": 5,
   "id": "46711504",
   "metadata": {},
   "outputs": [],
   "source": [
    "# 8.3.4 실습코드\n",
    "# 위의 numpy와 다른 점은 sklearn은 자동으로 센터에 맞춰줌\n",
    "from sklearn.decomposition import PCA\n",
    "\n",
    "pca = PCA(n_components = 2)\n",
    "X2D = pca.fit_transform(X)"
   ]
  },
  {
   "cell_type": "code",
   "execution_count": 6,
   "id": "1afd70c2",
   "metadata": {},
   "outputs": [
    {
     "name": "stdout",
     "output_type": "stream",
     "text": [
      "pca :  PCA(n_components=2)\n",
      "X2D :  [[  2.08374001   9.97769318]\n",
      " [ 12.53136592   4.15352368]\n",
      " [ -4.26069341 -11.17296129]\n",
      " ...\n",
      " [ -0.57812196  -2.30906044]\n",
      " [ 10.64441015   6.37488622]\n",
      " [ -3.04227432  11.58268844]]\n"
     ]
    }
   ],
   "source": [
    "# 8.3.4 실습 코드 결과\n",
    "print(\"pca : \", pca)\n",
    "print(\"X2D : \", X2D)"
   ]
  },
  {
   "cell_type": "code",
   "execution_count": 7,
   "id": "d58b840a",
   "metadata": {},
   "outputs": [
    {
     "data": {
      "text/plain": [
       "array([0.40782396, 0.3020019 ])"
      ]
     },
     "execution_count": 7,
     "metadata": {},
     "output_type": "execute_result"
    }
   ],
   "source": [
    "# 8.3.5 실습 코드\n",
    "pca.explained_variance_ratio_"
   ]
  },
  {
   "cell_type": "code",
   "execution_count": null,
   "id": "89aaafd7",
   "metadata": {},
   "outputs": [],
   "source": []
  }
 ],
 "metadata": {
  "kernelspec": {
   "display_name": "Python 3",
   "language": "python",
   "name": "python3"
  },
  "language_info": {
   "codemirror_mode": {
    "name": "ipython",
    "version": 3
   },
   "file_extension": ".py",
   "mimetype": "text/x-python",
   "name": "python",
   "nbconvert_exporter": "python",
   "pygments_lexer": "ipython3",
   "version": "3.7.9"
  }
 },
 "nbformat": 4,
 "nbformat_minor": 5
}
