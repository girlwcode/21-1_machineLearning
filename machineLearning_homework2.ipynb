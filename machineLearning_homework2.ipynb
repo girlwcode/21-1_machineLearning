{
 "cells": [
  {
   "cell_type": "code",
   "execution_count": 137,
   "id": "1c2fa91c",
   "metadata": {},
   "outputs": [],
   "source": [
    "## Programming homework2 : 비행기 사고 생존 예측\n",
    "# dataset 만들기\n",
    "# Survival : 0 - death, 1 - survived\n",
    "# Class : 1~3\n",
    "# Gender : female, male\n",
    "# Age : 5~80\n",
    "\n",
    "## 0. csv 데이터 읽어오기\n",
    "import pandas as pd\n",
    "passenger = pd.read_csv(\"passenger.csv\")"
   ]
  },
  {
   "cell_type": "code",
   "execution_count": 138,
   "id": "2913649f",
   "metadata": {},
   "outputs": [
    {
     "data": {
      "text/html": [
       "<div>\n",
       "<style scoped>\n",
       "    .dataframe tbody tr th:only-of-type {\n",
       "        vertical-align: middle;\n",
       "    }\n",
       "\n",
       "    .dataframe tbody tr th {\n",
       "        vertical-align: top;\n",
       "    }\n",
       "\n",
       "    .dataframe thead th {\n",
       "        text-align: right;\n",
       "    }\n",
       "</style>\n",
       "<table border=\"1\" class=\"dataframe\">\n",
       "  <thead>\n",
       "    <tr style=\"text-align: right;\">\n",
       "      <th></th>\n",
       "      <th>ID</th>\n",
       "      <th>Survival</th>\n",
       "      <th>Class</th>\n",
       "      <th>Gender</th>\n",
       "      <th>Age</th>\n",
       "    </tr>\n",
       "  </thead>\n",
       "  <tbody>\n",
       "    <tr>\n",
       "      <th>0</th>\n",
       "      <td>1</td>\n",
       "      <td>1</td>\n",
       "      <td>3</td>\n",
       "      <td>male</td>\n",
       "      <td>55</td>\n",
       "    </tr>\n",
       "    <tr>\n",
       "      <th>1</th>\n",
       "      <td>2</td>\n",
       "      <td>1</td>\n",
       "      <td>3</td>\n",
       "      <td>male</td>\n",
       "      <td>68</td>\n",
       "    </tr>\n",
       "    <tr>\n",
       "      <th>2</th>\n",
       "      <td>3</td>\n",
       "      <td>0</td>\n",
       "      <td>1</td>\n",
       "      <td>female</td>\n",
       "      <td>9</td>\n",
       "    </tr>\n",
       "    <tr>\n",
       "      <th>3</th>\n",
       "      <td>4</td>\n",
       "      <td>0</td>\n",
       "      <td>1</td>\n",
       "      <td>female</td>\n",
       "      <td>12</td>\n",
       "    </tr>\n",
       "    <tr>\n",
       "      <th>4</th>\n",
       "      <td>5</td>\n",
       "      <td>1</td>\n",
       "      <td>3</td>\n",
       "      <td>female</td>\n",
       "      <td>23</td>\n",
       "    </tr>\n",
       "    <tr>\n",
       "      <th>5</th>\n",
       "      <td>6</td>\n",
       "      <td>1</td>\n",
       "      <td>2</td>\n",
       "      <td>male</td>\n",
       "      <td>11</td>\n",
       "    </tr>\n",
       "    <tr>\n",
       "      <th>6</th>\n",
       "      <td>7</td>\n",
       "      <td>1</td>\n",
       "      <td>2</td>\n",
       "      <td>male</td>\n",
       "      <td>59</td>\n",
       "    </tr>\n",
       "    <tr>\n",
       "      <th>7</th>\n",
       "      <td>8</td>\n",
       "      <td>0</td>\n",
       "      <td>2</td>\n",
       "      <td>male</td>\n",
       "      <td>18</td>\n",
       "    </tr>\n",
       "    <tr>\n",
       "      <th>8</th>\n",
       "      <td>9</td>\n",
       "      <td>1</td>\n",
       "      <td>3</td>\n",
       "      <td>female</td>\n",
       "      <td>69</td>\n",
       "    </tr>\n",
       "    <tr>\n",
       "      <th>9</th>\n",
       "      <td>10</td>\n",
       "      <td>0</td>\n",
       "      <td>3</td>\n",
       "      <td>male</td>\n",
       "      <td>75</td>\n",
       "    </tr>\n",
       "  </tbody>\n",
       "</table>\n",
       "</div>"
      ],
      "text/plain": [
       "   ID  Survival  Class  Gender  Age\n",
       "0   1         1      3    male   55\n",
       "1   2         1      3    male   68\n",
       "2   3         0      1  female    9\n",
       "3   4         0      1  female   12\n",
       "4   5         1      3  female   23\n",
       "5   6         1      2    male   11\n",
       "6   7         1      2    male   59\n",
       "7   8         0      2    male   18\n",
       "8   9         1      3  female   69\n",
       "9  10         0      3    male   75"
      ]
     },
     "execution_count": 138,
     "metadata": {},
     "output_type": "execute_result"
    }
   ],
   "source": [
    "passenger.head(10)"
   ]
  },
  {
   "cell_type": "code",
   "execution_count": 139,
   "id": "b743aca4",
   "metadata": {
    "scrolled": true
   },
   "outputs": [
    {
     "data": {
      "image/png": "[encoded data removed]",
      "text/plain": [
       "<Figure size 432x288 with 1 Axes>"
      ]
     },
     "metadata": {
      "needs_background": "light"
     },
     "output_type": "display_data"
    },
    {
     "data": {
      "image/png": "[encoded data removed]",
      "text/plain": [
       "<Figure size 432x288 with 1 Axes>"
      ]
     },
     "metadata": {
      "needs_background": "light"
     },
     "output_type": "display_data"
    }
   ],
   "source": [
    "import matplotlib.pyplot as plt\n",
    "## 1. Data 특성 알아보기 및 시각화\n",
    "# 성별 별 생존자 수\n",
    "survived = passenger[passenger['Survival']==1]['Gender'].value_counts()\n",
    "death = passenger[passenger['Survival']==0]['Gender'].value_counts()\n",
    "\n",
    "plt.bar(survived.index, survived,color='r', width = 0.5)\n",
    "plt.title(\"Survival\")\n",
    "plt.show()\n",
    "plt.bar(death.index,death,color='b', width = 0.5)\n",
    "plt.title(\"Death\")\n",
    "plt.show()"
   ]
  },
  {
   "cell_type": "code",
   "execution_count": 140,
   "id": "27412491",
   "metadata": {},
   "outputs": [
    {
     "data": {
      "image/png": "[encoded data removed]",
      "text/plain": [
       "<Figure size 432x288 with 1 Axes>"
      ]
     },
     "metadata": {
      "needs_background": "light"
     },
     "output_type": "display_data"
    },
    {
     "data": {
      "image/png": "[encoded data removed]",
      "text/plain": [
       "<Figure size 432x288 with 1 Axes>"
      ]
     },
     "metadata": {
      "needs_background": "light"
     },
     "output_type": "display_data"
    }
   ],
   "source": [
    "# 클래스 별 생존자 수\n",
    "survived = passenger[passenger['Survival']==1]['Class'].value_counts()\n",
    "death = passenger[passenger['Survival']==0]['Class'].value_counts()\n",
    "\n",
    "plt.bar(survived.index, survived, color='r', width = 0.5)\n",
    "plt.title(\"Survival\")\n",
    "plt.show()\n",
    "\n",
    "plt.bar(death.index,death,color='b', width = 0.5)\n",
    "plt.title(\"Death\")\n",
    "plt.show()"
   ]
  },
  {
   "cell_type": "code",
   "execution_count": 141,
   "id": "0ecb6ca2",
   "metadata": {
    "scrolled": true
   },
   "outputs": [
    {
     "data": {
      "image/png": "[encoded data removed]",
      "text/plain": [
       "<Figure size 432x288 with 1 Axes>"
      ]
     },
     "metadata": {
      "needs_background": "light"
     },
     "output_type": "display_data"
    },
    {
     "data": {
      "image/png": "[encoded data removed]",
      "text/plain": [
       "<Figure size 432x288 with 1 Axes>"
      ]
     },
     "metadata": {
      "needs_background": "light"
     },
     "output_type": "display_data"
    }
   ],
   "source": [
    "# 나이 별 생존자 수\n",
    "survived = passenger[passenger['Survival']==1]['Age'].value_counts()\n",
    "death = passenger[passenger['Survival']==0]['Age'].value_counts()\n",
    "\n",
    "plt.bar(survived.index, survived, color='r')\n",
    "plt.title(\"Survival\")\n",
    "plt.show()\n",
    "\n",
    "plt.bar(death.index,death,color='b')\n",
    "plt.title(\"Death\")\n",
    "plt.show()"
   ]
  },
  {
   "cell_type": "code",
   "execution_count": 142,
   "id": "6daa3f1a",
   "metadata": {},
   "outputs": [
    {
     "name": "stdout",
     "output_type": "stream",
     "text": [
      "0     0\n",
      "1     0\n",
      "2     1\n",
      "3     1\n",
      "4     1\n",
      "     ..\n",
      "95    0\n",
      "96    0\n",
      "97    0\n",
      "98    0\n",
      "99    1\n",
      "Name: Gender, Length: 100, dtype: int64\n"
     ]
    }
   ],
   "source": [
    "## 2. sklearn를 사용하여 로지스틱회귀를 실행하여 생존율 예측 모델을 만들어라\n",
    "# 성별을 숫자로 mapping\n",
    "gender_mapping = {\"male\" : 0, \"female\" : 1}\n",
    "passenger[\"Gender\"] = passenger[\"Gender\"].map(gender_mapping)\n",
    "\n",
    "print(passenger.Gender)"
   ]
  },
  {
   "cell_type": "code",
   "execution_count": 143,
   "id": "21c8d3f5",
   "metadata": {
    "scrolled": true
   },
   "outputs": [
    {
     "data": {
      "text/plain": [
       "LogisticRegression()"
      ]
     },
     "execution_count": 143,
     "metadata": {},
     "output_type": "execute_result"
    }
   ],
   "source": [
    "# 예측 1. 성별에 따른 생존율 예측 모델\n",
    "X = passenger[\"Gender\"].values.reshape(-1,1)\n",
    "y = passenger[\"Survival\"]\n",
    "\n",
    "from sklearn.linear_model import LogisticRegression\n",
    "log_reg = LogisticRegression()\n",
    "log_reg.fit(X, y)"
   ]
  },
  {
   "cell_type": "code",
   "execution_count": 144,
   "id": "e14c12f9",
   "metadata": {},
   "outputs": [
    {
     "data": {
      "text/plain": [
       "[<matplotlib.lines.Line2D at 0x1e624364ac8>]"
      ]
     },
     "execution_count": 144,
     "metadata": {},
     "output_type": "execute_result"
    },
    {
     "data": {
      "image/png": "[encoded data removed]",
      "text/plain": [
       "<Figure size 432x288 with 1 Axes>"
      ]
     },
     "metadata": {
      "needs_background": "light"
     },
     "output_type": "display_data"
    }
   ],
   "source": [
    "X_new = np.random.randint(0, 2, size=100).reshape(-1,1)\n",
    "y_survive = log_reg.predict_proba(X_new)\n",
    "\n",
    "plt.title(\"Gender-based survival prediction model\")\n",
    "plt.plot(X_new, y_survive[:, 1],\"g-\",linewidth=2, label=\"Survived\")\n",
    "plt.plot(X_new, y_survive[:, 0],\"b-\",linewidth=2, label=\"Death\")"
   ]
  },
  {
   "cell_type": "code",
   "execution_count": 145,
   "id": "8801a6ef",
   "metadata": {},
   "outputs": [
    {
     "data": {
      "text/plain": [
       "LogisticRegression()"
      ]
     },
     "execution_count": 145,
     "metadata": {},
     "output_type": "execute_result"
    }
   ],
   "source": [
    "# 예측 2. 나이에 따른 생존율 예측 모델\n",
    "X = passenger[\"Age\"].values.reshape(-1,1)\n",
    "y = passenger[\"Survival\"]\n",
    "\n",
    "from sklearn.linear_model import LogisticRegression\n",
    "log_reg = LogisticRegression()\n",
    "log_reg.fit(X, y)"
   ]
  },
  {
   "cell_type": "code",
   "execution_count": 146,
   "id": "4ce13241",
   "metadata": {},
   "outputs": [
    {
     "data": {
      "text/plain": [
       "[<matplotlib.lines.Line2D at 0x1e6241fa148>]"
      ]
     },
     "execution_count": 146,
     "metadata": {},
     "output_type": "execute_result"
    },
    {
     "data": {
      "image/png": "[encoded data removed]",
      "text/plain": [
       "<Figure size 432x288 with 1 Axes>"
      ]
     },
     "metadata": {
      "needs_background": "light"
     },
     "output_type": "display_data"
    }
   ],
   "source": [
    "X_new = np.random.randint(5, 80, size=100).reshape(-1,1)\n",
    "y_survive = log_reg.predict_proba(X_new)\n",
    "\n",
    "plt.title(\"Age-based survival prediction model\")\n",
    "plt.plot(X_new, y_survive[:, 1],\"g-\",linewidth=2, label=\"Survived\")\n",
    "plt.plot(X_new, y_survive[:, 0],\"b-\",linewidth=2, label=\"Death\")"
   ]
  },
  {
   "cell_type": "code",
   "execution_count": 147,
   "id": "a11faca2",
   "metadata": {},
   "outputs": [
    {
     "data": {
      "text/plain": [
       "LogisticRegression()"
      ]
     },
     "execution_count": 147,
     "metadata": {},
     "output_type": "execute_result"
    }
   ],
   "source": [
    "# 예측 3. 클래스에 따른 생존율 예측 모델\n",
    "X = passenger[\"Class\"].values.reshape(-1,1)\n",
    "y = passenger[\"Survival\"]\n",
    "\n",
    "from sklearn.linear_model import LogisticRegression\n",
    "log_reg = LogisticRegression()\n",
    "log_reg.fit(X, y)"
   ]
  },
  {
   "cell_type": "code",
   "execution_count": 148,
   "id": "3a46a097",
   "metadata": {},
   "outputs": [
    {
     "data": {
      "text/plain": [
       "[<matplotlib.lines.Line2D at 0x1e6137f5d88>]"
      ]
     },
     "execution_count": 148,
     "metadata": {},
     "output_type": "execute_result"
    },
    {
     "data": {
      "image/png": "[encoded data removed]",
      "text/plain": [
       "<Figure size 432x288 with 1 Axes>"
      ]
     },
     "metadata": {
      "needs_background": "light"
     },
     "output_type": "display_data"
    }
   ],
   "source": [
    "X_new = np.random.randint(1, 4, size=100).reshape(-1,1)\n",
    "y_survive = log_reg.predict_proba(X_new)\n",
    "\n",
    "plt.title(\"Class-based survival prediction model\")\n",
    "plt.plot(X_new, y_survive[:, 1],\"g-\",linewidth=2, label=\"Survived\")\n",
    "plt.plot(X_new, y_survive[:, 0],\"b-\",linewidth=2, label=\"Death\")"
   ]
  },
  {
   "cell_type": "code",
   "execution_count": null,
   "id": "873b3d02",
   "metadata": {},
   "outputs": [],
   "source": []
  }
 ],
 "metadata": {
  "kernelspec": {
   "display_name": "Python 3",
   "language": "python",
   "name": "python3"
  },
  "language_info": {
   "codemirror_mode": {
    "name": "ipython",
    "version": 3
   },
   "file_extension": ".py",
   "mimetype": "text/x-python",
   "name": "python",
   "nbconvert_exporter": "python",
   "pygments_lexer": "ipython3",
   "version": "3.7.9"
  }
 },
 "nbformat": 4,
 "nbformat_minor": 5
}
