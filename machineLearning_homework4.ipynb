{
 "cells": [
  {
   "cell_type": "code",
   "execution_count": 17,
   "id": "89a89275",
   "metadata": {},
   "outputs": [],
   "source": [
    "from sklearn.model_selection import train_test_split\n",
    "from sklearn.datasets import make_moons\n",
    "\n",
    "## 0. Moon dataset 로드\n",
    "X,y = make_moons(n_samples=500, noise=0.30, random_state=42) #데이터 생성\n",
    "X_train, X_test, y_train, y_test = train_test_split(X, y, random_state=42)"
   ]
  },
  {
   "cell_type": "code",
   "execution_count": 18,
   "id": "a08ede4e",
   "metadata": {},
   "outputs": [],
   "source": [
    "## 1. logistic Regression, Random Forest #50, #100, #200, SVM 직접 투표 분류기\n",
    "from sklearn.ensemble import RandomForestClassifier\n",
    "from sklearn.ensemble import VotingClassifier\n",
    "from sklearn.linear_model import LogisticRegression\n",
    "from sklearn.svm import SVC\n",
    "\n",
    "log_clf = LogisticRegression(solver=\"lbfgs\", random_state=42)\n",
    "rnd_clf_50 = RandomForestClassifier(n_estimators=50, random_state=42)\n",
    "rnd_clf_100 = RandomForestClassifier(n_estimators=100, random_state=42)\n",
    "rnd_clf_200 = RandomForestClassifier(n_estimators=200, random_state=42)\n",
    "svm_clf = SVC(gamma=\"scale\", random_state=42)\n",
    "\n",
    "voting_clf = VotingClassifier(\n",
    "    estimators= [('lr', log_clf), ('rf50',rnd_clf_50), ('rf100',rnd_clf_100), ('rf200',rnd_clf_200), ('svc', svm_clf)],\n",
    "    voting = 'hard')"
   ]
  },
  {
   "cell_type": "code",
   "execution_count": 19,
   "id": "44f4eb12",
   "metadata": {},
   "outputs": [
    {
     "data": {
      "text/plain": [
       "VotingClassifier(estimators=[('lr', LogisticRegression(random_state=42)),\n",
       "                             ('rf50',\n",
       "                              RandomForestClassifier(n_estimators=50,\n",
       "                                                     random_state=42)),\n",
       "                             ('rf100', RandomForestClassifier(random_state=42)),\n",
       "                             ('rf200',\n",
       "                              RandomForestClassifier(n_estimators=200,\n",
       "                                                     random_state=42)),\n",
       "                             ('svc', SVC(random_state=42))])"
      ]
     },
     "execution_count": 19,
     "metadata": {},
     "output_type": "execute_result"
    }
   ],
   "source": [
    "voting_clf.fit(X_train, y_train)"
   ]
  },
  {
   "cell_type": "code",
   "execution_count": 21,
   "id": "ae574ed5",
   "metadata": {},
   "outputs": [
    {
     "name": "stdout",
     "output_type": "stream",
     "text": [
      "Accuracy of  LogisticRegression  :  0.864\n",
      "Accuracy of  RandomForestClassifier  with 50 trees :  0.896\n",
      "Accuracy of  RandomForestClassifier  with 100 trees :  0.896\n",
      "Accuracy of  RandomForestClassifier  with 200 trees :  0.896\n",
      "Accuracy of  SVC  :  0.896\n",
      "Accuracy of Direct VotingClassifier  :  0.896\n"
     ]
    }
   ],
   "source": [
    "## 1.2 각 분류기 성능 확인\n",
    "from sklearn.metrics import accuracy_score\n",
    "\n",
    "for clf in (log_clf, rnd_clf_50, rnd_clf_100, rnd_clf_200, svm_clf, voting_clf) :\n",
    "    clf.fit(X_train, y_train)\n",
    "    y_pred = clf.predict(X_test)\n",
    "    if (clf==rnd_clf_50) :\n",
    "        print('Accuracy of ',clf.__class__.__name__,' with 50 trees : ', accuracy_score(y_test, y_pred))\n",
    "    elif (clf==rnd_clf_100) :\n",
    "        print('Accuracy of ',clf.__class__.__name__,' with 100 trees : ', accuracy_score(y_test, y_pred))\n",
    "    elif (clf==rnd_clf_200) :\n",
    "        print('Accuracy of ',clf.__class__.__name__,' with 200 trees : ', accuracy_score(y_test, y_pred))\n",
    "    elif (clf==voting_clf) :\n",
    "        print('Accuracy of Direct',clf.__class__.__name__,' : ', accuracy_score(y_test, y_pred))    \n",
    "    else :\n",
    "        print('Accuracy of ',clf.__class__.__name__,' : ' ,accuracy_score(y_test, y_pred))"
   ]
  },
  {
   "cell_type": "code",
   "execution_count": 22,
   "id": "9f2940a6",
   "metadata": {},
   "outputs": [],
   "source": [
    "## 2. logistic Regression, Random Forest #50, #100, #200, SVM 간접 투표 분류기\n",
    "from sklearn.ensemble import RandomForestClassifier\n",
    "from sklearn.ensemble import VotingClassifier\n",
    "from sklearn.linear_model import LogisticRegression\n",
    "from sklearn.svm import SVC\n",
    "\n",
    "log_clf = LogisticRegression(solver=\"lbfgs\", random_state=42)\n",
    "rnd_clf_50 = RandomForestClassifier(n_estimators=50, random_state=42)\n",
    "rnd_clf_100 = RandomForestClassifier(n_estimators=100, random_state=42)\n",
    "rnd_clf_200 = RandomForestClassifier(n_estimators=200, random_state=42)\n",
    "svm_clf = SVC(gamma=\"scale\", random_state=42, probability = True)\n",
    "\n",
    "voting_clf = VotingClassifier(\n",
    "    estimators= [('lr', log_clf), ('rf50',rnd_clf_50), ('rf100',rnd_clf_100), ('rf200',rnd_clf_200), ('svc', svm_clf)],\n",
    "    voting = 'soft')"
   ]
  },
  {
   "cell_type": "code",
   "execution_count": 23,
   "id": "89974bc6",
   "metadata": {},
   "outputs": [
    {
     "data": {
      "text/plain": [
       "VotingClassifier(estimators=[('lr', LogisticRegression(random_state=42)),\n",
       "                             ('rf50',\n",
       "                              RandomForestClassifier(n_estimators=50,\n",
       "                                                     random_state=42)),\n",
       "                             ('rf100', RandomForestClassifier(random_state=42)),\n",
       "                             ('rf200',\n",
       "                              RandomForestClassifier(n_estimators=200,\n",
       "                                                     random_state=42)),\n",
       "                             ('svc', SVC(probability=True, random_state=42))],\n",
       "                 voting='soft')"
      ]
     },
     "execution_count": 23,
     "metadata": {},
     "output_type": "execute_result"
    }
   ],
   "source": [
    "voting_clf.fit(X_train, y_train)"
   ]
  },
  {
   "cell_type": "code",
   "execution_count": 24,
   "id": "8aa6493e",
   "metadata": {},
   "outputs": [
    {
     "name": "stdout",
     "output_type": "stream",
     "text": [
      "Accuracy of  LogisticRegression  :  0.864\n",
      "Accuracy of  RandomForestClassifier  with 50 trees :  0.896\n",
      "Accuracy of  RandomForestClassifier  with 100 trees :  0.896\n",
      "Accuracy of  RandomForestClassifier  with 200 trees :  0.896\n",
      "Accuracy of  SVC  :  0.896\n",
      "Accuracy of Indirect VotingClassifier  :  0.92\n"
     ]
    }
   ],
   "source": [
    "## 2.2 각 분류기 성능 확인\n",
    "from sklearn.metrics import accuracy_score\n",
    "\n",
    "for clf in (log_clf, rnd_clf_50, rnd_clf_100, rnd_clf_200, svm_clf, voting_clf) :\n",
    "    clf.fit(X_train, y_train)\n",
    "    y_pred = clf.predict(X_test)\n",
    "    if (clf==rnd_clf_50) :\n",
    "        print('Accuracy of ',clf.__class__.__name__,' with 50 trees : ', accuracy_score(y_test, y_pred))\n",
    "    elif (clf==rnd_clf_100) :\n",
    "        print('Accuracy of ',clf.__class__.__name__,' with 100 trees : ', accuracy_score(y_test, y_pred))\n",
    "    elif (clf==rnd_clf_200) :\n",
    "        print('Accuracy of ',clf.__class__.__name__,' with 200 trees : ', accuracy_score(y_test, y_pred))\n",
    "    elif (clf==voting_clf) :\n",
    "        print('Accuracy of Indirect',clf.__class__.__name__,' : ', accuracy_score(y_test, y_pred))\n",
    "    else :\n",
    "        print('Accuracy of ',clf.__class__.__name__,' : ' ,accuracy_score(y_test, y_pred))"
   ]
  },
  {
   "cell_type": "code",
   "execution_count": null,
   "id": "00f9cd66",
   "metadata": {},
   "outputs": [],
   "source": []
  }
 ],
 "metadata": {
  "kernelspec": {
   "display_name": "Python 3",
   "language": "python",
   "name": "python3"
  },
  "language_info": {
   "codemirror_mode": {
    "name": "ipython",
    "version": 3
   },
   "file_extension": ".py",
   "mimetype": "text/x-python",
   "name": "python",
   "nbconvert_exporter": "python",
   "pygments_lexer": "ipython3",
   "version": "3.7.9"
  }
 },
 "nbformat": 4,
 "nbformat_minor": 5
}
