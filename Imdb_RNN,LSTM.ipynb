{
  "nbformat": 4,
  "nbformat_minor": 0,
  "metadata": {
    "colab": {
      "name": "Imdb_RNN,LSTM",
      "provenance": [],
      "collapsed_sections": [],
      "authorship_tag": "ABX9TyNQ5IdlDcEI67agV/b6gPI5",
      "include_colab_link": true
    },
    "kernelspec": {
      "name": "python3",
      "display_name": "Python 3"
    },
    "language_info": {
      "name": "python"
    },
    "accelerator": "TPU"
  },
  "cells": [
    {
      "cell_type": "markdown",
      "metadata": {
        "id": "view-in-github",
        "colab_type": "text"
      },
      "source": [
        "<a href=\"https://colab.research.google.com/github/girlwcode/21-1_machineLearning/blob/main/Imdb_RNN%2CLSTM.ipynb\" target=\"_parent\"><img src=\"https://colab.research.google.com/assets/colab-badge.svg\" alt=\"Open In Colab\"/></a>"
      ]
    },
    {
      "cell_type": "code",
      "metadata": {
        "colab": {
          "base_uri": "https://localhost:8080/"
        },
        "id": "AmglAWYscGMH",
        "outputId": "394af32a-9bf1-4b5b-f4b7-f57a3344dc58"
      },
      "source": [
        "# Load the Dataset and module\n",
        "import numpy as np\n",
        "import matplotlib.pyplot as plt\n",
        "from tensorflow.keras.datasets import imdb\n",
        "\n",
        "(X_train, y_train), (X_test, y_test) = imdb.load_data()"
      ],
      "execution_count": null,
      "outputs": [
        {
          "output_type": "stream",
          "name": "stdout",
          "text": [
            "Downloading data from https://storage.googleapis.com/tensorflow/tf-keras-datasets/imdb.npz\n",
            "17465344/17464789 [==============================] - 0s 0us/step\n",
            "17473536/17464789 [==============================] - 0s 0us/step\n"
          ]
        }
      ]
    },
    {
      "cell_type": "code",
      "metadata": {
        "colab": {
          "base_uri": "https://localhost:8080/"
        },
        "id": "mjm95q73csMk",
        "outputId": "dc6b9643-6f56-4375-9ff0-58619373893e"
      },
      "source": [
        "print('훈련용 리뷰 개수 : {}'.format(len(X_train)))\n",
        "print('테스트용 리뷰 개수 : {}'.format(len(X_test)))\n",
        "num_classes = len(set(y_train))\n",
        "print('카테고리 : {}'.format(num_classes))"
      ],
      "execution_count": null,
      "outputs": [
        {
          "output_type": "stream",
          "name": "stdout",
          "text": [
            "훈련용 리뷰 개수 : 25000\n",
            "테스트용 리뷰 개수 : 25000\n",
            "카테고리 : 2\n"
          ]
        }
      ]
    },
    {
      "cell_type": "code",
      "metadata": {
        "colab": {
          "base_uri": "https://localhost:8080/"
        },
        "id": "RdkRo9OJc375",
        "outputId": "8d99a6cd-22d6-4372-e58f-dc16390b1a50"
      },
      "source": [
        "len_result = [len(s) for s in X_train]\n",
        "\n",
        "print('리뷰의 최대 길이 : {}'.format(np.max(len_result)))\n",
        "print('리뷰의 평균 길이 : {}'.format(np.mean(len_result)))"
      ],
      "execution_count": null,
      "outputs": [
        {
          "output_type": "stream",
          "name": "stdout",
          "text": [
            "리뷰의 최대 길이 : 2494\n",
            "리뷰의 평균 길이 : 238.71364\n"
          ]
        }
      ]
    },
    {
      "cell_type": "code",
      "metadata": {
        "id": "luLLNyuGdzYf"
      },
      "source": [
        "import re\n",
        "from tensorflow.keras.datasets import imdb\n",
        "from tensorflow.keras.preprocessing.sequence import pad_sequences\n",
        "\n",
        "\n",
        "# preprocessing\n",
        "# 단어의 집합을 10000개로 제한\n",
        "vocab_size = 10000\n",
        "(X_train, y_train), (X_test, y_test) = imdb.load_data(num_words = vocab_size)\n",
        "\n",
        "# 리뷰 길이를 500으로 제한 - 모델 처리를 위해, 모든 데이터 크기 동일하게 만듦\n",
        "max_len = 500\n",
        "X_train = pad_sequences(X_train, maxlen=max_len)\n",
        "X_test = pad_sequences(X_test, maxlen=max_len)"
      ],
      "execution_count": null,
      "outputs": []
    },
    {
      "cell_type": "code",
      "metadata": {
        "colab": {
          "base_uri": "https://localhost:8080/"
        },
        "id": "geRxVcXBezby",
        "outputId": "c66b1b83-fab5-4afc-ff90-3957143a1212"
      },
      "source": [
        "from tensorflow.keras.models import Sequential\n",
        "from tensorflow.keras.layers import Dense, LSTM, SimpleRNN, Embedding\n",
        "from tensorflow.keras.callbacks import EarlyStopping, ModelCheckpoint\n",
        "from tensorflow.keras.models import load_model\n",
        "# Layer 1개일 때, RNN\n",
        "import time\n",
        "\n",
        "# 시작 시간\n",
        "start_time = time.time()\n",
        "\n",
        "# 100차원의 임베딩 차원\n",
        "# 128개의 unit\n",
        "embedding_dim = 100\n",
        "hidden_units = 128\n",
        "epochs = 10\n",
        "\n",
        "model = Sequential()\n",
        "model.add(Embedding(vocab_size, embedding_dim))\n",
        "model.add(SimpleRNN(hidden_units))\n",
        "model.add(Dense(1, activation='sigmoid'))\n",
        "\n",
        "es = EarlyStopping(monitor='val_loss', mode='min', verbose=1, patience=4)\n",
        "mc = ModelCheckpoint('RNN_model.h5', monitor='val_acc', mode='max', verbose=1, save_best_only=True)\n",
        "\n",
        "model.compile(optimizer='rmsprop', loss='binary_crossentropy', metrics=['acc'])\n",
        "history = model.fit(X_train, y_train, epochs=epochs, callbacks=[es, mc], batch_size=60, validation_split=0.2)\n",
        "\n",
        "print(\"--- %s seconds ---\" %(time.time() - start_time))"
      ],
      "execution_count": null,
      "outputs": [
        {
          "output_type": "stream",
          "name": "stdout",
          "text": [
            "Epoch 1/10\n",
            "334/334 [==============================] - ETA: 0s - loss: 0.6552 - acc: 0.5869\n",
            "Epoch 00001: val_acc improved from -inf to 0.76940, saving model to RNN_model.h5\n",
            "334/334 [==============================] - 105s 310ms/step - loss: 0.6552 - acc: 0.5869 - val_loss: 0.4909 - val_acc: 0.7694\n",
            "Epoch 2/10\n",
            "334/334 [==============================] - ETA: 0s - loss: 0.4514 - acc: 0.7986\n",
            "Epoch 00002: val_acc improved from 0.76940 to 0.80600, saving model to RNN_model.h5\n",
            "334/334 [==============================] - 103s 309ms/step - loss: 0.4514 - acc: 0.7986 - val_loss: 0.4505 - val_acc: 0.8060\n",
            "Epoch 3/10\n",
            "334/334 [==============================] - ETA: 0s - loss: 0.3838 - acc: 0.8397\n",
            "Epoch 00003: val_acc improved from 0.80600 to 0.82680, saving model to RNN_model.h5\n",
            "334/334 [==============================] - 103s 309ms/step - loss: 0.3838 - acc: 0.8397 - val_loss: 0.4316 - val_acc: 0.8268\n",
            "Epoch 4/10\n",
            "334/334 [==============================] - ETA: 0s - loss: 0.3716 - acc: 0.8454\n",
            "Epoch 00004: val_acc did not improve from 0.82680\n",
            "334/334 [==============================] - 103s 309ms/step - loss: 0.3716 - acc: 0.8454 - val_loss: 0.4151 - val_acc: 0.8222\n",
            "Epoch 5/10\n",
            "334/334 [==============================] - ETA: 0s - loss: 0.4960 - acc: 0.7735\n",
            "Epoch 00005: val_acc did not improve from 0.82680\n",
            "334/334 [==============================] - 103s 309ms/step - loss: 0.4960 - acc: 0.7735 - val_loss: 0.4956 - val_acc: 0.7768\n",
            "Epoch 6/10\n",
            "334/334 [==============================] - ETA: 0s - loss: 0.3647 - acc: 0.8451\n",
            "Epoch 00006: val_acc did not improve from 0.82680\n",
            "334/334 [==============================] - 103s 308ms/step - loss: 0.3647 - acc: 0.8451 - val_loss: 0.5419 - val_acc: 0.7414\n",
            "Epoch 7/10\n",
            "334/334 [==============================] - ETA: 0s - loss: 0.3098 - acc: 0.8736\n",
            "Epoch 00007: val_acc did not improve from 0.82680\n",
            "334/334 [==============================] - 103s 310ms/step - loss: 0.3098 - acc: 0.8736 - val_loss: 0.4369 - val_acc: 0.8266\n",
            "Epoch 8/10\n",
            "334/334 [==============================] - ETA: 0s - loss: 0.3051 - acc: 0.8758\n",
            "Epoch 00008: val_acc did not improve from 0.82680\n",
            "334/334 [==============================] - 104s 311ms/step - loss: 0.3051 - acc: 0.8758 - val_loss: 0.4316 - val_acc: 0.8146\n",
            "Epoch 00008: early stopping\n",
            "--- 829.0260512828827 seconds ---\n"
          ]
        }
      ]
    },
    {
      "cell_type": "code",
      "metadata": {
        "colab": {
          "base_uri": "https://localhost:8080/"
        },
        "id": "8m4euwRxgDsf",
        "outputId": "553580a0-f8b4-4a4e-e4d2-de68df474af5"
      },
      "source": [
        "loaded_model = load_model('RNN_model.h5')\n",
        "print(\"\\n 테스트 정확도: %.4f\" % (loaded_model.evaluate(X_test, y_test)[1]))"
      ],
      "execution_count": null,
      "outputs": [
        {
          "output_type": "stream",
          "name": "stdout",
          "text": [
            "782/782 [==============================] - 43s 55ms/step - loss: 0.4364 - acc: 0.8193\n",
            "\n",
            " 테스트 정확도: 0.8193\n"
          ]
        }
      ]
    },
    {
      "cell_type": "code",
      "metadata": {
        "colab": {
          "base_uri": "https://localhost:8080/"
        },
        "id": "UtP0uiPAhlkU",
        "outputId": "6c843490-7731-4fe6-b037-16e079313802"
      },
      "source": [
        "from tensorflow.keras.models import Sequential\n",
        "from tensorflow.keras.layers import Dense, LSTM, SimpleRNN, Embedding\n",
        "from tensorflow.keras.callbacks import EarlyStopping, ModelCheckpoint\n",
        "from tensorflow.keras.models import load_model\n",
        "# Layer 1개일 때, LSTM\n",
        "import time\n",
        "\n",
        "# 시작 시간\n",
        "start_time = time.time()\n",
        "\n",
        "# 100차원의 임베딩 차원\n",
        "# 128개의 unit\n",
        "embedding_dim = 100\n",
        "hidden_units = 128\n",
        "epochs = 10\n",
        "\n",
        "accuracy=[]\n",
        "model = Sequential()\n",
        "model.add(Embedding(vocab_size, embedding_dim))\n",
        "model.add(LSTM(hidden_units))\n",
        "model.add(Dense(1, activation='sigmoid'))\n",
        "\n",
        "es = EarlyStopping(monitor='val_loss', mode='min', verbose=1, patience=4)\n",
        "mc = ModelCheckpoint('LSTM_model.h5', monitor='val_acc', mode='max', verbose=1, save_best_only=True)\n",
        "\n",
        "model.compile(optimizer='rmsprop', loss='binary_crossentropy', metrics=['acc'])\n",
        "history = model.fit(X_train, y_train, epochs=epochs, callbacks=[es, mc], batch_size=60, validation_split=0.2)\n",
        "\n",
        "print(\"--- %s seconds ---\" %(time.time() - start_time))"
      ],
      "execution_count": null,
      "outputs": [
        {
          "output_type": "stream",
          "name": "stdout",
          "text": [
            "Epoch 1/10\n",
            "334/334 [==============================] - ETA: 0s - loss: 0.4867 - acc: 0.7713\n",
            "Epoch 00001: val_acc improved from -inf to 0.84840, saving model to LSTM_model.h5\n",
            "334/334 [==============================] - 400s 1s/step - loss: 0.4867 - acc: 0.7713 - val_loss: 0.3622 - val_acc: 0.8484\n",
            "Epoch 2/10\n",
            "334/334 [==============================] - ETA: 0s - loss: 0.3028 - acc: 0.8821\n",
            "Epoch 00002: val_acc improved from 0.84840 to 0.87860, saving model to LSTM_model.h5\n",
            "334/334 [==============================] - 398s 1s/step - loss: 0.3028 - acc: 0.8821 - val_loss: 0.3030 - val_acc: 0.8786\n",
            "Epoch 3/10\n",
            "334/334 [==============================] - ETA: 0s - loss: 0.2449 - acc: 0.9067\n",
            "Epoch 00003: val_acc improved from 0.87860 to 0.88840, saving model to LSTM_model.h5\n",
            "334/334 [==============================] - 391s 1s/step - loss: 0.2449 - acc: 0.9067 - val_loss: 0.2922 - val_acc: 0.8884\n",
            "Epoch 4/10\n",
            "334/334 [==============================] - ETA: 0s - loss: 0.2061 - acc: 0.9237\n",
            "Epoch 00004: val_acc did not improve from 0.88840\n",
            "334/334 [==============================] - 395s 1s/step - loss: 0.2061 - acc: 0.9237 - val_loss: 0.3189 - val_acc: 0.8732\n",
            "Epoch 5/10\n",
            "334/334 [==============================] - ETA: 0s - loss: 0.1852 - acc: 0.9328\n",
            "Epoch 00005: val_acc did not improve from 0.88840\n",
            "334/334 [==============================] - 394s 1s/step - loss: 0.1852 - acc: 0.9328 - val_loss: 0.2890 - val_acc: 0.8824\n",
            "Epoch 6/10\n",
            "334/334 [==============================] - ETA: 0s - loss: 0.1597 - acc: 0.9435Epoch 7/10\n",
            "334/334 [==============================] - ETA: 0s - loss: 0.1427 - acc: 0.9492\n",
            "Epoch 00007: val_acc did not improve from 0.89020\n",
            "334/334 [==============================] - 413s 1s/step - loss: 0.1427 - acc: 0.9492 - val_loss: 0.3223 - val_acc: 0.8782\n",
            "Epoch 8/10\n",
            "334/334 [==============================] - ETA: 0s - loss: 0.1181 - acc: 0.9586\n",
            "Epoch 00008: val_acc did not improve from 0.89020\n",
            "334/334 [==============================] - 399s 1s/step - loss: 0.1181 - acc: 0.9586 - val_loss: 0.3415 - val_acc: 0.8902\n",
            "Epoch 9/10\n",
            "334/334 [==============================] - ETA: 0s - loss: 0.1023 - acc: 0.9635\n",
            "Epoch 00009: val_acc did not improve from 0.89020\n",
            "334/334 [==============================] - 388s 1s/step - loss: 0.1023 - acc: 0.9635 - val_loss: 0.3454 - val_acc: 0.8814\n",
            "Epoch 00009: early stopping\n",
            "--- 3594.014596939087 seconds ---\n"
          ]
        }
      ]
    },
    {
      "cell_type": "code",
      "metadata": {
        "colab": {
          "base_uri": "https://localhost:8080/"
        },
        "id": "TMNkefqqh7Zr",
        "outputId": "67975829-9acc-4de5-de95-632f651ff16b"
      },
      "source": [
        "loaded_model = load_model('LSTM_model.h5')\n",
        "print(\"\\n 테스트 정확도: %.4f\" % (loaded_model.evaluate(X_test, y_test)[1]))"
      ],
      "execution_count": null,
      "outputs": [
        {
          "output_type": "stream",
          "name": "stdout",
          "text": [
            "782/782 [==============================] - 116s 148ms/step - loss: 0.3667 - acc: 0.8697\n",
            "\n",
            " 테스트 정확도: 0.8697\n"
          ]
        }
      ]
    },
    {
      "cell_type": "code",
      "metadata": {
        "colab": {
          "base_uri": "https://localhost:8080/"
        },
        "id": "vqBO6uDs8GT4",
        "outputId": "fc606adc-588c-4197-8c46-520291e70660"
      },
      "source": [
        "## Test 2 - unit \n",
        "import re\n",
        "from tensorflow.keras.datasets import imdb\n",
        "from tensorflow.keras.preprocessing.sequence import pad_sequences\n",
        "\n",
        "\n",
        "# preprocessing\n",
        "# 단어의 집합을 10000개로 제한\n",
        "vocab_size = 10000\n",
        "(X_train, y_train), (X_test, y_test) = imdb.load_data(num_words = vocab_size)\n",
        "\n",
        "# 리뷰 길이를 500으로 제한 - 모델 처리를 위해, 모든 데이터 크기 동일하게 만듦\n",
        "max_len = 500\n",
        "X_train = pad_sequences(X_train, maxlen=max_len)\n",
        "X_test = pad_sequences(X_test, maxlen=max_len)"
      ],
      "execution_count": null,
      "outputs": [
        {
          "output_type": "stream",
          "name": "stdout",
          "text": [
            "Downloading data from https://storage.googleapis.com/tensorflow/tf-keras-datasets/imdb.npz\n",
            "17465344/17464789 [==============================] - 0s 0us/step\n",
            "17473536/17464789 [==============================] - 0s 0us/step\n"
          ]
        }
      ]
    },
    {
      "cell_type": "code",
      "metadata": {
        "colab": {
          "base_uri": "https://localhost:8080/"
        },
        "id": "NLUOSq6f8Par",
        "outputId": "0954c7fc-0bd4-404f-cc32-a25b6ef6b8e2"
      },
      "source": [
        "from tensorflow.keras.models import Sequential\n",
        "from tensorflow.keras.layers import Dense, LSTM, SimpleRNN, Embedding\n",
        "from tensorflow.keras.callbacks import EarlyStopping, ModelCheckpoint\n",
        "from tensorflow.keras.models import load_model\n",
        "# Layer 1개일 때, RNN\n",
        "import time\n",
        "\n",
        "# 시작 시간\n",
        "start_time = time.time()\n",
        "\n",
        "# 100차원의 임베딩 차원\n",
        "# 128개의 unit\n",
        "embedding_dim = 100\n",
        "hidden_units = 256\n",
        "epochs = 5\n",
        "\n",
        "model = Sequential()\n",
        "model.add(Embedding(vocab_size, embedding_dim))\n",
        "model.add(SimpleRNN(hidden_units))\n",
        "model.add(Dense(1, activation='sigmoid'))\n",
        "\n",
        "es = EarlyStopping(monitor='val_loss', mode='min', verbose=1, patience=4)\n",
        "mc = ModelCheckpoint('RNN_model2.h5', monitor='val_acc', mode='max', verbose=1, save_best_only=True)\n",
        "\n",
        "model.compile(optimizer='rmsprop', loss='binary_crossentropy', metrics=['acc'])\n",
        "history = model.fit(X_train, y_train, epochs=epochs, callbacks=[es, mc], batch_size=60, validation_split=0.2)\n",
        "\n",
        "print(\"--- %s seconds ---\" %(time.time() - start_time))"
      ],
      "execution_count": null,
      "outputs": [
        {
          "output_type": "stream",
          "name": "stdout",
          "text": [
            "Epoch 1/5\n",
            "334/334 [==============================] - ETA: 0s - loss: 0.6944 - acc: 0.5350\n",
            "Epoch 00001: val_acc improved from -inf to 0.55820, saving model to RNN_model2.h5\n",
            "334/334 [==============================] - 285s 849ms/step - loss: 0.6944 - acc: 0.5350 - val_loss: 0.6819 - val_acc: 0.5582\n",
            "Epoch 2/5\n",
            "334/334 [==============================] - ETA: 0s - loss: 0.6294 - acc: 0.6299\n",
            "Epoch 00002: val_acc improved from 0.55820 to 0.61740, saving model to RNN_model2.h5\n",
            "334/334 [==============================] - 283s 848ms/step - loss: 0.6294 - acc: 0.6299 - val_loss: 0.6332 - val_acc: 0.6174\n",
            "Epoch 3/5\n",
            "334/334 [==============================] - ETA: 0s - loss: 0.5726 - acc: 0.6906\n",
            "Epoch 00003: val_acc improved from 0.61740 to 0.62280, saving model to RNN_model2.h5\n",
            "334/334 [==============================] - 284s 849ms/step - loss: 0.5726 - acc: 0.6906 - val_loss: 0.6546 - val_acc: 0.6228\n",
            "Epoch 4/5\n",
            "334/334 [==============================] - ETA: 0s - loss: 0.5241 - acc: 0.7397\n",
            "Epoch 00004: val_acc did not improve from 0.62280\n",
            "334/334 [==============================] - 282s 845ms/step - loss: 0.5241 - acc: 0.7397 - val_loss: 0.6595 - val_acc: 0.6212\n",
            "Epoch 5/5\n",
            "334/334 [==============================] - ETA: 0s - loss: 0.5390 - acc: 0.7286\n",
            "Epoch 00005: val_acc did not improve from 0.62280\n",
            "334/334 [==============================] - 284s 851ms/step - loss: 0.5390 - acc: 0.7286 - val_loss: 0.6551 - val_acc: 0.6192\n",
            "--- 1463.1582140922546 seconds ---\n"
          ]
        }
      ]
    },
    {
      "cell_type": "code",
      "metadata": {
        "colab": {
          "base_uri": "https://localhost:8080/"
        },
        "id": "UlU9e9xw-bp2",
        "outputId": "74f7c5b6-19b6-430f-ebba-2379ddce31eb"
      },
      "source": [
        "loaded_model = load_model('RNN_model2.h5')\n",
        "print(\"\\n 테스트 정확도: %.4f\" % (loaded_model.evaluate(X_test, y_test)[1]))"
      ],
      "execution_count": null,
      "outputs": [
        {
          "output_type": "stream",
          "name": "stdout",
          "text": [
            "782/782 [==============================] - 93s 119ms/step - loss: 0.6545 - acc: 0.6177\n",
            "\n",
            " 테스트 정확도: 0.6177\n"
          ]
        }
      ]
    },
    {
      "cell_type": "code",
      "metadata": {
        "colab": {
          "base_uri": "https://localhost:8080/"
        },
        "id": "xlRsr09Q-IHj",
        "outputId": "16055cd2-828f-457d-f4cc-7a8bf3b66631"
      },
      "source": [
        "from tensorflow.keras.models import Sequential\n",
        "from tensorflow.keras.layers import Dense, LSTM, SimpleRNN, Embedding\n",
        "from tensorflow.keras.callbacks import EarlyStopping, ModelCheckpoint\n",
        "from tensorflow.keras.models import load_model\n",
        "# Layer 1개일 때, LSTM\n",
        "import time\n",
        "\n",
        "# 시작 시간\n",
        "start_time = time.time()\n",
        "\n",
        "# 100차원의 임베딩 차원\n",
        "# 128개의 unit\n",
        "embedding_dim = 100\n",
        "hidden_units = 256\n",
        "epochs = 5\n",
        "\n",
        "accuracy=[]\n",
        "model = Sequential()\n",
        "model.add(Embedding(vocab_size, embedding_dim))\n",
        "model.add(LSTM(hidden_units))\n",
        "model.add(Dense(1, activation='sigmoid'))\n",
        "\n",
        "es = EarlyStopping(monitor='val_loss', mode='min', verbose=1, patience=4)\n",
        "mc = ModelCheckpoint('LSTM_model2.h5', monitor='val_acc', mode='max', verbose=1, save_best_only=True)\n",
        "\n",
        "model.compile(optimizer='rmsprop', loss='binary_crossentropy', metrics=['acc'])\n",
        "history = model.fit(X_train, y_train, epochs=epochs, callbacks=[es, mc], batch_size=60, validation_split=0.2)\n",
        "\n",
        "print(\"--- %s seconds ---\" %(time.time() - start_time))"
      ],
      "execution_count": null,
      "outputs": [
        {
          "output_type": "stream",
          "name": "stdout",
          "text": [
            "Epoch 1/5\n",
            "334/334 [==============================] - ETA: 0s - loss: 0.5022 - acc: 0.7685\n",
            "Epoch 00001: val_acc improved from -inf to 0.85320, saving model to LSTM_model2.h5\n",
            "334/334 [==============================] - 1036s 3s/step - loss: 0.5022 - acc: 0.7685 - val_loss: 0.3582 - val_acc: 0.8532\n",
            "Epoch 2/5\n",
            "334/334 [==============================] - ETA: 0s - loss: 0.3491 - acc: 0.8636\n",
            "Epoch 00002: val_acc improved from 0.85320 to 0.86520, saving model to LSTM_model2.h5\n",
            "334/334 [==============================] - 1006s 3s/step - loss: 0.3491 - acc: 0.8636 - val_loss: 0.3231 - val_acc: 0.8652\n",
            "Epoch 3/5\n",
            "334/334 [==============================] - ETA: 0s - loss: 0.2702 - acc: 0.8975\n",
            "Epoch 00003: val_acc improved from 0.86520 to 0.87440, saving model to LSTM_model2.h5\n",
            "334/334 [==============================] - 1011s 3s/step - loss: 0.2702 - acc: 0.8975 - val_loss: 0.3124 - val_acc: 0.8744\n",
            "Epoch 4/5\n",
            "334/334 [==============================] - ETA: 0s - loss: 0.2205 - acc: 0.9187\n",
            "Epoch 00004: val_acc improved from 0.87440 to 0.88440, saving model to LSTM_model2.h5\n",
            "334/334 [==============================] - 1018s 3s/step - loss: 0.2205 - acc: 0.9187 - val_loss: 0.3364 - val_acc: 0.8844\n",
            "Epoch 5/5\n",
            "334/334 [==============================] - ETA: 0s - loss: 0.1916 - acc: 0.9310\n",
            "Epoch 00005: val_acc did not improve from 0.88440\n",
            "334/334 [==============================] - 1032s 3s/step - loss: 0.1916 - acc: 0.9310 - val_loss: 0.3328 - val_acc: 0.8670\n",
            "--- 5133.050505876541 seconds ---\n"
          ]
        }
      ]
    },
    {
      "cell_type": "code",
      "metadata": {
        "colab": {
          "base_uri": "https://localhost:8080/"
        },
        "id": "mBDa_Y7S-dpu",
        "outputId": "da231aa7-0531-4e4a-de8c-4a60f70e7310"
      },
      "source": [
        "loaded_model = load_model('LSTM_model2.h5')\n",
        "print(\"\\n 테스트 정확도: %.4f\" % (loaded_model.evaluate(X_test, y_test)[1]))"
      ],
      "execution_count": null,
      "outputs": [
        {
          "output_type": "stream",
          "name": "stdout",
          "text": [
            "782/782 [==============================] - 390s 498ms/step - loss: 0.3592 - acc: 0.8713\n",
            "\n",
            " 테스트 정확도: 0.8713\n"
          ]
        }
      ]
    },
    {
      "cell_type": "code",
      "metadata": {
        "colab": {
          "base_uri": "https://localhost:8080/",
          "height": 281
        },
        "id": "fkCqU3o6Zl17",
        "outputId": "2f9a0d15-c634-46f2-8924-c43d3c05d5f9"
      },
      "source": [
        "import matplotlib.pyplot as plt\n",
        "\n",
        "# Plot the Results\n",
        "RNN_V1_train = [0.5869, 0.7986,0.8397,0.8454,0.7735,0.8451,0.8736,0.8758]\n",
        "RNN_V1_valid = [ 0.7694,0.8060,0.8268, 0.8222, 0.7768, 0.7414, 0.8266, 0.8146]\n",
        "x = [1,2,3,4,5,6,7,8]\n",
        "plt.title('Accuracy of RNN Ver.1')\n",
        "plt.plot(x, RNN_V1_train, x, RNN_V1_valid)\n",
        "plt.legend(['train', 'valid'])\n",
        "plt.show()"
      ],
      "execution_count": null,
      "outputs": [
        {
          "output_type": "display_data",
          "data": {
            "image/png": "[encoded data removed]",
            "text/plain": [
              "<Figure size 432x288 with 1 Axes>"
            ]
          },
          "metadata": {
            "needs_background": "light"
          }
        }
      ]
    },
    {
      "cell_type": "code",
      "metadata": {
        "colab": {
          "base_uri": "https://localhost:8080/",
          "height": 281
        },
        "id": "vEwZ4DJ7d67o",
        "outputId": "f0bc4c1f-872f-432f-b466-b8eb037cb56b"
      },
      "source": [
        "# Plot the Results\n",
        "LSTM_V1_train = [0.7713,0.8821,0.9067,0.9237,0.9328,0.9435,0.9492,0.9586,0.9635]\n",
        "LSTM_V1_valid = [0.8484, 0.8786, 0.8884, 0.8732, 0.8824, 0.8902, 0.8782, 0.8902, 0.8814]\n",
        "x = [1,2,3,4,5,6,7,8,9]\n",
        "plt.title('Accuracy of LSTM Ver.1')\n",
        "plt.plot(x, LSTM_V1_train, x, LSTM_V1_valid)\n",
        "plt.legend(['train', 'valid'])\n",
        "plt.show()"
      ],
      "execution_count": null,
      "outputs": [
        {
          "output_type": "display_data",
          "data": {
            "image/png": "[encoded data removed]",
            "text/plain": [
              "<Figure size 432x288 with 1 Axes>"
            ]
          },
          "metadata": {
            "needs_background": "light"
          }
        }
      ]
    },
    {
      "cell_type": "code",
      "metadata": {
        "colab": {
          "base_uri": "https://localhost:8080/",
          "height": 281
        },
        "id": "SjgCC7xEfBBg",
        "outputId": "81d10e67-f786-405f-ac6f-478f3b3ec8c3"
      },
      "source": [
        "import matplotlib.pyplot as plt\n",
        "\n",
        "# Plot the Results\n",
        "RNN_V2_train = [0.5350,0.6299,0.6906,0.7397,0.7286]\n",
        "RNN_V2_valid = [ 0.5582, 0.6174, 0.6228, 0.6212, 0.6192]\n",
        "x = [1,2,3,4,5]\n",
        "plt.title('Accuracy of RNN Ver.2')\n",
        "plt.plot(x, RNN_V2_train, x, RNN_V2_valid)\n",
        "plt.legend(['train', 'valid'])\n",
        "plt.show()"
      ],
      "execution_count": null,
      "outputs": [
        {
          "output_type": "display_data",
          "data": {
            "image/png": "[encoded data removed]",
            "text/plain": [
              "<Figure size 432x288 with 1 Axes>"
            ]
          },
          "metadata": {
            "needs_background": "light"
          }
        }
      ]
    },
    {
      "cell_type": "code",
      "metadata": {
        "colab": {
          "base_uri": "https://localhost:8080/",
          "height": 281
        },
        "id": "ZRyLajyJfuUi",
        "outputId": "3eb73209-9188-4ba7-f0c2-c895422945e7"
      },
      "source": [
        "# Plot the Results\n",
        "LSTM_V2_train = [0.7685,0.8636,0.8975,0.9187,0.9310]\n",
        "LSTM_V2_valid = [ 0.8532, 0.8652, 0.8744, 0.8844, 0.9310]\n",
        "x = [1,2,3,4,5]\n",
        "plt.title('Accuracy of LSTM Ver.2')\n",
        "plt.plot(x, LSTM_V2_train, x, LSTM_V2_valid)\n",
        "plt.legend(['train', 'valid'])\n",
        "plt.show()"
      ],
      "execution_count": null,
      "outputs": [
        {
          "output_type": "display_data",
          "data": {
            "image/png": "[encoded data removed]",
            "text/plain": [
              "<Figure size 432x288 with 1 Axes>"
            ]
          },
          "metadata": {
            "needs_background": "light"
          }
        }
      ]
    }
  ]
}