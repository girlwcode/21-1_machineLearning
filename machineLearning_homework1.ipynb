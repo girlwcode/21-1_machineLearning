{
 "cells": [
  {
   "cell_type": "code",
   "execution_count": 82,
   "id": "933350b4",
   "metadata": {},
   "outputs": [],
   "source": [
    "## Programming homework1 : 키에 따른 몸무게 예측\n",
    "# dataset 만들기\n",
    "# height range : RANDBETWEEN(140,185)\n",
    "# Weigjt range : height - 100 + RANDBETWEEN(-20,25)\n",
    "\n",
    "## 0. csv 데이터 읽어오기\n",
    "import pandas as pd\n",
    "body_information = pd.read_csv(\"body_information.csv\")"
   ]
  },
  {
   "cell_type": "code",
   "execution_count": 83,
   "id": "c2b79492",
   "metadata": {},
   "outputs": [
    {
     "data": {
      "text/html": [
       "<div>\n",
       "<style scoped>\n",
       "    .dataframe tbody tr th:only-of-type {\n",
       "        vertical-align: middle;\n",
       "    }\n",
       "\n",
       "    .dataframe tbody tr th {\n",
       "        vertical-align: top;\n",
       "    }\n",
       "\n",
       "    .dataframe thead th {\n",
       "        text-align: right;\n",
       "    }\n",
       "</style>\n",
       "<table border=\"1\" class=\"dataframe\">\n",
       "  <thead>\n",
       "    <tr style=\"text-align: right;\">\n",
       "      <th></th>\n",
       "      <th>Index</th>\n",
       "      <th>height</th>\n",
       "      <th>weight</th>\n",
       "    </tr>\n",
       "  </thead>\n",
       "  <tbody>\n",
       "    <tr>\n",
       "      <th>0</th>\n",
       "      <td>1</td>\n",
       "      <td>153</td>\n",
       "      <td>69</td>\n",
       "    </tr>\n",
       "    <tr>\n",
       "      <th>1</th>\n",
       "      <td>2</td>\n",
       "      <td>157</td>\n",
       "      <td>52</td>\n",
       "    </tr>\n",
       "    <tr>\n",
       "      <th>2</th>\n",
       "      <td>3</td>\n",
       "      <td>145</td>\n",
       "      <td>50</td>\n",
       "    </tr>\n",
       "    <tr>\n",
       "      <th>3</th>\n",
       "      <td>4</td>\n",
       "      <td>152</td>\n",
       "      <td>60</td>\n",
       "    </tr>\n",
       "    <tr>\n",
       "      <th>4</th>\n",
       "      <td>5</td>\n",
       "      <td>153</td>\n",
       "      <td>68</td>\n",
       "    </tr>\n",
       "  </tbody>\n",
       "</table>\n",
       "</div>"
      ],
      "text/plain": [
       "   Index  height  weight\n",
       "0      1     153      69\n",
       "1      2     157      52\n",
       "2      3     145      50\n",
       "3      4     152      60\n",
       "4      5     153      68"
      ]
     },
     "execution_count": 83,
     "metadata": {},
     "output_type": "execute_result"
    }
   ],
   "source": [
    "## 1. head() 메소드를 사용하여 5명까지의 키와 몸무게를 출력하라\n",
    "body_information.head(5)"
   ]
  },
  {
   "cell_type": "code",
   "execution_count": 100,
   "id": "9f7078e4",
   "metadata": {},
   "outputs": [
    {
     "data": {
      "image/png": "[encoded data removed]",
      "text/plain": [
       "<Figure size 432x288 with 1 Axes>"
      ]
     },
     "metadata": {
      "needs_background": "light"
     },
     "output_type": "display_data"
    },
    {
     "data": {
      "image/png": "[encoded data removed]",
      "text/plain": [
       "<Figure size 432x288 with 1 Axes>"
      ]
     },
     "metadata": {
      "needs_background": "light"
     },
     "output_type": "display_data"
    },
    {
     "data": {
      "image/png": "[encoded data removed]",
      "text/plain": [
       "<Figure size 432x288 with 1 Axes>"
      ]
     },
     "metadata": {
      "needs_background": "light"
     },
     "output_type": "display_data"
    }
   ],
   "source": [
    "# 2. matplotlib를 사용하여 데이터를 시각화 하라\n",
    "import matplotlib.pyplot as plt\n",
    "\n",
    "#plt.plot(body_information.height,body_information.weight)\n",
    "# 산점도 그래프 그리기\\\n",
    "plt.title(\"Weight based height\")\n",
    "plt.scatter(body_information.height, body_information.weight)\n",
    "plt.show()\n",
    "\n",
    "# 히스토그램 그리기\n",
    "plt.hist(body_information.height, width=1)\n",
    "plt.title(\"Height\")\n",
    "plt.show()\n",
    "\n",
    "plt.hist(body_information.weight, width=1)\n",
    "plt.title(\"Weight\")\n",
    "plt.show()"
   ]
  },
  {
   "cell_type": "code",
   "execution_count": 101,
   "id": "37c083f8",
   "metadata": {
    "scrolled": true
   },
   "outputs": [
    {
     "data": {
      "text/plain": [
       "(-98.36679390333094, array([1.01879393]))"
      ]
     },
     "execution_count": 101,
     "metadata": {},
     "output_type": "execute_result"
    }
   ],
   "source": [
    "## 3. sklearn를 사용하여 선형회귀를 실행하여 키가 160cm인 사람의 몸무게를 예측하여 출력하고, 절편과 기울기를 각각 출력하라.\n",
    "\n",
    "# 사이킷런으로 선형회귀 예측 결과 구현하기\n",
    "from sklearn.linear_model import LinearRegression\n",
    "\n",
    "lin_reg = LinearRegression()\n",
    "\n",
    "# sklearn 특징 : 독립 변수 x를 2차원 배열로 넣어야 함\n",
    "X = body_information['height'].values.reshape(-1,1)\n",
    "y = body_information['weight']\n",
    "\n",
    "lin_reg.fit(X,y)\n",
    "lin_reg.intercept_, lin_reg.coef_"
   ]
  },
  {
   "cell_type": "code",
   "execution_count": 102,
   "id": "375c15dc",
   "metadata": {},
   "outputs": [
    {
     "name": "stdout",
     "output_type": "stream",
     "text": [
      "키가 160인 사람의 예측된 몸무게 :  [64.64023529]\n"
     ]
    }
   ],
   "source": [
    "## 키가 160cm 인 사람의 몸무게를 예측하라\n",
    "X_new = np.array([[160]])\n",
    "predict = lin_reg.predict(X_new)\n",
    "\n",
    "print(\"키가 160인 사람의 예측된 몸무게 : \", predict)"
   ]
  },
  {
   "cell_type": "code",
   "execution_count": 103,
   "id": "4ddf089b",
   "metadata": {
    "scrolled": true
   },
   "outputs": [
    {
     "name": "stdout",
     "output_type": "stream",
     "text": [
      "절편 =  -98.36679390333094\n",
      "기울기 =  1.0187939324876267\n"
     ]
    }
   ],
   "source": [
    "## 절편과 기울기를 각각 출력하라.\n",
    "\n",
    "# 절편은 x가 0일 경우 얻을 수 있음 or intercept 속성으로 얻기\n",
    "#b = lin_reg.predict([[0]])\n",
    "b = lin_reg.intercept_\n",
    "\n",
    "# 기울기는 coef 속성으로 얻을 수 있음\n",
    "w = lin_reg.coef_[0]\n",
    "\n",
    "print('절편 = ',b)\n",
    "print('기울기 = ',w)"
   ]
  },
  {
   "cell_type": "code",
   "execution_count": 104,
   "id": "abe63cfc",
   "metadata": {
    "scrolled": true
   },
   "outputs": [],
   "source": [
    "# lin_reg.score(X,y) : 0.5219979997504678"
   ]
  },
  {
   "cell_type": "code",
   "execution_count": 89,
   "id": "af2360b3",
   "metadata": {},
   "outputs": [
    {
     "data": {
      "image/png": "[encoded data removed]",
      "text/plain": [
       "<Figure size 432x288 with 1 Axes>"
      ]
     },
     "metadata": {
      "needs_background": "light"
     },
     "output_type": "display_data"
    }
   ],
   "source": [
    "## 4. matplotlib를 사용하여 예측 결과를 시각화 하라.\n",
    "\n",
    "plt.plot(X, y , \"b.\")\n",
    "plt.axis([140, 180, 30, 100])\n",
    "plt.title(\"Height based weight prediction model\")\n",
    "plt.grid(True)\n",
    "plt.plot(X,lin_reg.predict(X),\"r-\")\n",
    "\n",
    "plt.show()"
   ]
  },
  {
   "cell_type": "code",
   "execution_count": null,
   "id": "cf06ee58",
   "metadata": {},
   "outputs": [],
   "source": []
  }
 ],
 "metadata": {
  "kernelspec": {
   "display_name": "Python 3",
   "language": "python",
   "name": "python3"
  },
  "language_info": {
   "codemirror_mode": {
    "name": "ipython",
    "version": 3
   },
   "file_extension": ".py",
   "mimetype": "text/x-python",
   "name": "python",
   "nbconvert_exporter": "python",
   "pygments_lexer": "ipython3",
   "version": "3.7.9"
  }
 },
 "nbformat": 4,
 "nbformat_minor": 5
}
