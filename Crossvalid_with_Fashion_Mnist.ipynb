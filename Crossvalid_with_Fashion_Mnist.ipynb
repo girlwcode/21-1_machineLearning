{
  "nbformat": 4,
  "nbformat_minor": 0,
  "metadata": {
    "colab": {
      "name": "Crossvalid_with_Fashion_Mnist.ipynb",
      "provenance": [],
      "collapsed_sections": [],
      "authorship_tag": "ABX9TyPS4Gf9R82x2TATcFRYdYcH",
      "include_colab_link": true
    },
    "kernelspec": {
      "name": "python3",
      "display_name": "Python 3"
    },
    "language_info": {
      "name": "python"
    },
    "accelerator": "GPU"
  },
  "cells": [
    {
      "cell_type": "markdown",
      "metadata": {
        "id": "view-in-github",
        "colab_type": "text"
      },
      "source": [
        "<a href=\"https://colab.research.google.com/github/girlwcode/21-1_machineLearning/blob/main/Crossvalid_with_Fashion_Mnist.ipynb\" target=\"_parent\"><img src=\"https://colab.research.google.com/assets/colab-badge.svg\" alt=\"Open In Colab\"/></a>"
      ]
    },
    {
      "cell_type": "code",
      "metadata": {
        "id": "3oKcTOhn2MNz"
      },
      "source": [
        "# 교차 검증을 이용한 옵티마이저 선택\n",
        "# Load Module\n",
        "import numpy as np\n",
        "import tensorflow as tf\n",
        "from tensorflow.keras.datasets import fashion_mnist\n",
        "from tensorflow.keras.models import Sequential\n",
        "from tensorflow.keras.layers import Dense\n",
        "from tensorflow.keras.optimizers import SGD,Adam,Adagrad, RMSprop\n",
        "from sklearn.model_selection import KFold"
      ],
      "execution_count": 25,
      "outputs": []
    },
    {
      "cell_type": "code",
      "metadata": {
        "id": "awEvDAVR3ITY"
      },
      "source": [
        "# Load & Transform Dataset\n",
        "(x_train, y_train), (x_test,y_test) = fashion_mnist.load_data()\n",
        "x_train = x_train.reshape(60000,784)\n",
        "x_test = x_test.reshape(10000,784)\n",
        "x_train = x_train.astype(np.float32)/255.0\n",
        "x_test = x_test.astype(np.float32)/255.0\n",
        "y_train = tf.keras.utils.to_categorical(y_train, 10)\n",
        "y_test = tf.keras.utils.to_categorical(y_test, 10)"
      ],
      "execution_count": 26,
      "outputs": []
    },
    {
      "cell_type": "code",
      "metadata": {
        "id": "lvxRfdeR4Mns"
      },
      "source": [
        "# Set HyperParameter\n",
        "n_input = 784\n",
        "\n",
        "# hidden layer = 5\n",
        "n_hidden1 = 1024\n",
        "n_hidden2 = 512\n",
        "n_hidden3 = 512\n",
        "n_hidden4 = 512\n",
        "n_hidden5 = 512\n",
        "\n",
        "n_output = 10\n",
        "\n",
        "batch_size = 512\n",
        "n_epoch = 40\n",
        "k = 5"
      ],
      "execution_count": 28,
      "outputs": []
    },
    {
      "cell_type": "code",
      "metadata": {
        "id": "fRxligsA40zy"
      },
      "source": [
        "import time\n",
        "# Build Model\n",
        "def build_model() :\n",
        "  model = Sequential()\n",
        "  model.add(Dense(units=n_hidden1,activation='relu', input_shape=(n_input,)))\n",
        "  model.add(Dense(units=n_hidden2, activation='relu'))\n",
        "  model.add(Dense(units=n_hidden3, activation='relu'))\n",
        "  model.add(Dense(units=n_hidden4, activation='relu'))\n",
        "  model.add(Dense(units=n_hidden5, activation='relu'))\n",
        "  model.add(Dense(units=n_output, activation='softmax'))\n",
        "  return model\n",
        "\n",
        "# Cross Validation Def\n",
        "def cross_validation(opt):\n",
        "  start = time.time() # 시작 시간\n",
        "  accuracy=[]\n",
        "\n",
        "  for train_index,val_index in KFold(k).split(x_train):\n",
        "    xtrain, xval = x_train[train_index], x_train[val_index]\n",
        "    ytrain, yval = y_train[train_index], y_train[val_index]\n",
        "    dmlp = build_model()\n",
        "    dmlp.compile(loss='categorical_crossentropy', optimizer = opt, metrics=['accuracy'])\n",
        "    dmlp.fit(xtrain, ytrain, batch_size=batch_size, epochs=n_epoch, verbose=0)\n",
        "    accuracy.append(dmlp.evaluate(xval,yval,verbose=0)[1])\n",
        "\n",
        "  end = time.time() # 종료 시간\n",
        "  print('하이퍼 매개변수 최적화에 걸린 시간은',end-start,'초입니다')\n",
        "\n",
        "  return accuracy"
      ],
      "execution_count": 31,
      "outputs": []
    },
    {
      "cell_type": "code",
      "metadata": {
        "colab": {
          "base_uri": "https://localhost:8080/"
        },
        "id": "wlfuS7r98Lf8",
        "outputId": "c6ad6e41-b710-46ce-acd5-e494d675c309"
      },
      "source": [
        "# 옵티마니저 4개에 대해 교차 검증 실행\n",
        "print('*** SGD 옵티마이저 사용 ***')\n",
        "acc_sgd = cross_validation(SGD())\n",
        "print('*** Adam 옵티마이저 사용 ***')\n",
        "acc_adam = cross_validation(Adam())\n",
        "print('*** Adagrad 옵티마이저 사용 ***')\n",
        "acc_adagrad = cross_validation(Adagrad())\n",
        "print('*** RMSprop 옵티마이저 사용 ***')\n",
        "acc_rmsprop = cross_validation(RMSprop())\n",
        "\n",
        "# 옵티마이저 4개의 정확률 비교\n",
        "print(\"SGD:\",np.array(acc_sgd).mean())\n",
        "print(\"Adam:\",np.array(acc_adam).mean())\n",
        "print(\"Adagrad:\",np.array(acc_adagrad).mean())\n",
        "print(\"RMSprop\",np.array(acc_rmsprop).mean())"
      ],
      "execution_count": 32,
      "outputs": [
        {
          "output_type": "stream",
          "name": "stdout",
          "text": [
            "*** SGD 옵티마이저 사용 ***\n",
            "하이퍼 매개변수 최적화에 걸린 시간은 174.38900637626648 초입니다\n",
            "*** Adam 옵티마이저 사용 ***\n",
            "하이퍼 매개변수 최적화에 걸린 시간은 179.84147119522095 초입니다\n",
            "*** Adagrad 옵티마이저 사용 ***\n",
            "하이퍼 매개변수 최적화에 걸린 시간은 163.06141424179077 초입니다\n",
            "*** RMSprop 옵티마이저 사용 ***\n",
            "하이퍼 매개변수 최적화에 걸린 시간은 193.0696783065796 초입니다\n",
            "SGD: 0.8622000098228455\n",
            "Adam: 0.894866669178009\n",
            "Adagrad: 0.8343499898910522\n",
            "RMSprop 0.8929166793823242\n"
          ]
        }
      ]
    },
    {
      "cell_type": "code",
      "metadata": {
        "colab": {
          "base_uri": "https://localhost:8080/",
          "height": 283
        },
        "id": "mMcpjGI9_4Qk",
        "outputId": "460a7295-2611-4bd7-bb7f-53645a7ef688"
      },
      "source": [
        "import matplotlib.pyplot as plt\n",
        "\n",
        "# 옵티마이저의 정확률을 박스 플롯으로 비교\n",
        "plt.title('Comparison of optimizer performance through cross-validation', fontsize=15)\n",
        "plt.boxplot([acc_sgd,acc_adam,acc_adagrad,acc_rmsprop],labels=['SGD','Adam','Adagrad', 'RMSprop'])\n",
        "plt.grid()"
      ],
      "execution_count": 33,
      "outputs": [
        {
          "output_type": "display_data",
          "data": {
            "image/png": "[encoded data removed]",
            "text/plain": [
              "<Figure size 432x288 with 1 Axes>"
            ]
          },
          "metadata": {
            "needs_background": "light"
          }
        }
      ]
    }
  ]
}